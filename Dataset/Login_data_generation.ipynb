{
  "nbformat": 4,
  "nbformat_minor": 0,
  "metadata": {
    "colab": {
      "provenance": []
    },
    "kernelspec": {
      "name": "python3",
      "display_name": "Python 3"
    },
    "language_info": {
      "name": "python"
    }
  },
  "cells": [
    {
      "cell_type": "code",
      "source": [
        "pip install faker"
      ],
      "metadata": {
        "colab": {
          "base_uri": "https://localhost:8080/"
        },
        "id": "nMxqh-L-O-4H",
        "outputId": "1341db7f-9a39-44a8-e491-b26dd034fff4"
      },
      "execution_count": 1,
      "outputs": [
        {
          "output_type": "stream",
          "name": "stdout",
          "text": [
            "Looking in indexes: https://pypi.org/simple, https://us-python.pkg.dev/colab-wheels/public/simple/\n",
            "Collecting faker\n",
            "  Downloading Faker-18.6.0-py3-none-any.whl (1.7 MB)\n",
            "\u001b[2K     \u001b[90m━━━━━━━━━━━━━━━━━━━━━━━━━━━━━━━━━━━━━━━━\u001b[0m \u001b[32m1.7/1.7 MB\u001b[0m \u001b[31m23.6 MB/s\u001b[0m eta \u001b[36m0:00:00\u001b[0m\n",
            "\u001b[?25hRequirement already satisfied: python-dateutil>=2.4 in /usr/local/lib/python3.10/dist-packages (from faker) (2.8.2)\n",
            "Requirement already satisfied: six>=1.5 in /usr/local/lib/python3.10/dist-packages (from python-dateutil>=2.4->faker) (1.16.0)\n",
            "Installing collected packages: faker\n",
            "Successfully installed faker-18.6.0\n"
          ]
        }
      ]
    },
    {
      "cell_type": "code",
      "source": [
        "from faker import Faker\n",
        "import csv\n",
        "import pandas as pd\n"
      ],
      "metadata": {
        "id": "ar2_nrP8PMyt"
      },
      "execution_count": 3,
      "outputs": []
    },
    {
      "cell_type": "code",
      "source": [
        "applicant_id=pd.read_csv(\"/content/Applicants Data (3).csv\")\n",
        "uni_id=pd.read_csv(\"/content/University_requirements_table (1).csv\")\n",
        "print(len(applicant_id),len(uni_id))"
      ],
      "metadata": {
        "colab": {
          "base_uri": "https://localhost:8080/"
        },
        "id": "KW9Lbr89PIuu",
        "outputId": "274df6a1-2e14-457a-e0ee-27b8c2368921"
      },
      "execution_count": 10,
      "outputs": [
        {
          "output_type": "stream",
          "name": "stdout",
          "text": [
            "4000 1300\n"
          ]
        }
      ]
    },
    {
      "cell_type": "code",
      "source": [
        "app_id=applicant_id['Applicant Id']\n",
        "u_id=uni_id['UID']"
      ],
      "metadata": {
        "id": "DFFgZHLBPdl0"
      },
      "execution_count": 11,
      "outputs": []
    },
    {
      "cell_type": "code",
      "source": [
        "print(app_id[1],u_id[1])"
      ],
      "metadata": {
        "colab": {
          "base_uri": "https://localhost:8080/"
        },
        "id": "Rc0BH-AFPmUz",
        "outputId": "65a597ab-4b4b-4550-81d8-17ab8f90a7a5"
      },
      "execution_count": 12,
      "outputs": [
        {
          "output_type": "stream",
          "name": "stdout",
          "text": [
            "10002 1002\n"
          ]
        }
      ]
    },
    {
      "cell_type": "code",
      "execution_count": 13,
      "metadata": {
        "id": "pbJrmKt6O9sV"
      },
      "outputs": [],
      "source": [
        "fake = Faker()\n",
        "\n",
        "# Generate fake data for University_admins table\n",
        "univ_admins_data = []\n",
        "for i in range(len(u_id)):\n",
        "    email = fake.email()\n",
        "    password = fake.password(length=10)\n",
        "    univ_admins_data.append((u_id[i], email, password))\n",
        "\n",
        "with open('University_admins.csv', 'w', newline='') as csvfile:\n",
        "    writer = csv.writer(csvfile)\n",
        "    writer.writerow(['UID', 'email', 'password'])\n",
        "    writer.writerows(univ_admins_data)\n",
        "\n",
        "# Generate fake data for Applicants_login table\n",
        "applicants_data = []\n",
        "for i in range(len(app_id)):\n",
        "    email = fake.email()\n",
        "    password = fake.password(length=10)\n",
        "    applicants_data.append((app_id[i], email, password))\n",
        "\n",
        "with open('Applicants_login.csv', 'w', newline='') as csvfile:\n",
        "    writer = csv.writer(csvfile)\n",
        "    writer.writerow(['Applicant_id', 'email', 'password'])\n",
        "    writer.writerows(applicants_data)\n"
      ]
    },
    {
      "cell_type": "code",
      "source": [],
      "metadata": {
        "id": "w3dekU6lQUEx"
      },
      "execution_count": null,
      "outputs": []
    }
  ]
}